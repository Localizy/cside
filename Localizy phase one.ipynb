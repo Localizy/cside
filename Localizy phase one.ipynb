{
 "cells": [
  {
   "cell_type": "code",
   "execution_count": 9,
   "id": "b9892c56",
   "metadata": {},
   "outputs": [
    {
     "name": "stdout",
     "output_type": "stream",
     "text": [
      "Defaulting to user installation because normal site-packages is not writeable\n",
      "Requirement already satisfied: requests in /Users/burhan/Library/Python/3.8/lib/python/site-packages (2.27.1)\n",
      "Requirement already satisfied: charset-normalizer~=2.0.0 in /Users/burhan/Library/Python/3.8/lib/python/site-packages (from requests) (2.0.12)\n",
      "Requirement already satisfied: certifi>=2017.4.17 in /Users/burhan/Library/Python/3.8/lib/python/site-packages (from requests) (2021.10.8)\n",
      "Requirement already satisfied: idna<4,>=2.5 in /Users/burhan/Library/Python/3.8/lib/python/site-packages (from requests) (3.3)\n",
      "Requirement already satisfied: urllib3<1.27,>=1.21.1 in /Users/burhan/Library/Python/3.8/lib/python/site-packages (from requests) (1.26.9)\n",
      "Note: you may need to restart the kernel to use updated packages.\n"
     ]
    }
   ],
   "source": [
    "pip install requests"
   ]
  },
  {
   "cell_type": "code",
   "execution_count": 13,
   "id": "72aedeb2",
   "metadata": {},
   "outputs": [],
   "source": [
    "import requests\n",
    "import json\n",
    "\n",
    "\n",
    "def getStringPair(key, value):\n",
    "    sample = \"<string name=\\\"*#8#key\\\">*#8#value</string>\"\n",
    "    return  sample.replace('*#8#key', key).replace(\"*#8#value\", value)\n",
    "\n",
    "def punchFile(output, fileName):\n",
    "    f = open(fileName, \"w\")\n",
    "    f.write(output)\n",
    "    f.close()\n",
    "\n",
    "def getJSONFromAPI(URL):\n",
    "    response = requests.get(URL)\n",
    "    return response.json()\n",
    "    \n",
    "    \n",
    "def getXMLFromJSON(jsonObject):\n",
    "    output = '<?xml version=\"1.0\" encoding=\"utf-8\"?>'\n",
    "    output+= '\\n<resources>'\n",
    "\n",
    "    for key in jsonObject:\n",
    "        output +=  \"\\n\" + getStringPair(str(key), str(jsonObject[key])) \n",
    "    output+= '\\n</resources>'\n",
    "    return output\n",
    "\n",
    "def writeFileFromURL(URL, fileName):\n",
    "    jsonObject = getJSONFromAPI(URL)\n",
    "    xmlFile = getXMLFromJSON(jsonObject)\n",
    "    punchFile(xmlFile, str(fileName))\n"
   ]
  },
  {
   "cell_type": "code",
   "execution_count": 14,
   "id": "632edf49",
   "metadata": {},
   "outputs": [
    {
     "name": "stdout",
     "output_type": "stream",
     "text": [
      "Finished\n"
     ]
    }
   ],
   "source": [
    "writeFileFromURL(\"https://private-73751d-docs44.apiary-mock.com/getGandalf\", \"saaample.txt\")\n",
    "print(\"Finished\")"
   ]
  },
  {
   "cell_type": "code",
   "execution_count": null,
   "id": "67d02063",
   "metadata": {},
   "outputs": [],
   "source": []
  }
 ],
 "metadata": {
  "kernelspec": {
   "display_name": "Python 3 (ipykernel)",
   "language": "python",
   "name": "python3"
  },
  "language_info": {
   "codemirror_mode": {
    "name": "ipython",
    "version": 3
   },
   "file_extension": ".py",
   "mimetype": "text/x-python",
   "name": "python",
   "nbconvert_exporter": "python",
   "pygments_lexer": "ipython3",
   "version": "3.8.9"
  }
 },
 "nbformat": 4,
 "nbformat_minor": 5
}
