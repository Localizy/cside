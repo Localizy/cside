{
 "cells": [
  {
   "cell_type": "code",
   "execution_count": 115,
   "id": "bb9b61ec",
   "metadata": {},
   "outputs": [],
   "source": [
    "import requests\n",
    "\n",
    "def getStringPair(key, value):\n",
    "    sample = \"<string name=\\\"*#8#key\\\">*#8#value</string>\"\n",
    "    return  sample.replace('*#8#key', key).replace(\"*#8#value\", value)\n",
    "\n",
    "\n",
    "def punchFile(output, fileName):\n",
    "    f = open(fileName, \"w\")\n",
    "    f.write(output)\n",
    "    f.close()\n",
    "\n",
    "def getJSONFromAPI(URL):\n",
    "    response = requests.get(URL)\n",
    "    return response.json()\n",
    "    \n",
    "    \n",
    "def getXMLFromJSON(jsonObject):\n",
    "    output = '<?xml version=\"1.0\" encoding=\"utf-8\"?>'\n",
    "    output+= '\\n<resources>'\n",
    "\n",
    "    for key in jsonObject:\n",
    "        output +=  \"\\n\" + getStringPair(str(key), str(jsonObject[key])) \n",
    "        \n",
    "    output+= '\\n</resources>'\n",
    "    return output"
   ]
  },
  {
   "cell_type": "code",
   "execution_count": 116,
   "id": "b1aaabb8",
   "metadata": {},
   "outputs": [
    {
     "name": "stdout",
     "output_type": "stream",
     "text": [
      "{'call_permission': 'Call Permission', 'camera_permission': 'Camera Permission', 'contacts_permission': 'Contacts Permission', 'allow_permission_from_setting': ', please go to settings and allow permission.', 'proceed_to_flow': ', please click proceed.', 'proceed': 'Proceed', 'go_to_settings': 'Go to Settings', 'runtime_permission_rationale_title_contacts': 'Allow Shadowfax to access contacts.', 'runtime_permission_rationale_title_camera': \"Allow Shadowfax to access this device's camera.\", 'runtime_permission_rationale_title_call': 'Allow Shadowfax to make and manage phone calls.', 'runtime_permission_denied_contacts': 'Contacts permission is required to refer your contacts', 'runtime_permission_denied_barcode': 'We cannot scan the barcode without access to camera', 'runtime_permission_denied_documentation': 'You have disabled camera permissions. We cannot capture documents without access to camera', 'runtime_permission_denied_profile': 'We cannot capture your profile picture without access to camera', 'runtime_permission_denied_pod': 'We cannot capture your proof of delivery without access to camera', 'runtime_permission_denied_qc': 'We cannot capture your proof of delivery without access to camera', 'runtime_permission_denied_invoice': 'We cannot capture invoice without access to camera', 'runtime_permission_denied_upi': 'We cannot open UPI code without access to camera', 'runtime_permission_denied_duty': 'Capturing selfie is mandatory to go online. We cannot capture selfie without access to camera', 'runtime_permission_denied_call_onboarding': 'We cannot connect you to Onboarding center without access to phone calls', 'runtime_permission_denied_call_customer': 'We cannot connect you to customer without access to phone calls', 'runtime_permission_denied_call_seller': 'We cannot connect you to seller without access to phone calls', 'step_1': 'Step 1', 'click_on_permission_in_app_info_page': 'Click on Permission on the App info page', 'step_2': 'Step 2', 'allow_permissions_in_the_page': 'Allow permission on the page'}\n",
      "Finished\n"
     ]
    }
   ],
   "source": [
    "import json\n",
    "\n",
    "\n",
    "jsonObject = getJSONFromAPI(\"https://private-73751d-docs44.apiary-mock.com/getGandalf\")\n",
    "\n",
    "xmlFile = getXMLFromJSON(jsonObject)\n",
    "\n",
    "punchFile(xmlFile, str(\"samples.txt\"))\n",
    "\n",
    "print(\"Finished\")"
   ]
  },
  {
   "cell_type": "code",
   "execution_count": null,
   "id": "075b2e82",
   "metadata": {},
   "outputs": [],
   "source": []
  }
 ],
 "metadata": {
  "kernelspec": {
   "display_name": "Python 3 (ipykernel)",
   "language": "python",
   "name": "python3"
  },
  "language_info": {
   "codemirror_mode": {
    "name": "ipython",
    "version": 3
   },
   "file_extension": ".py",
   "mimetype": "text/x-python",
   "name": "python",
   "nbconvert_exporter": "python",
   "pygments_lexer": "ipython3",
   "version": "3.8.9"
  }
 },
 "nbformat": 4,
 "nbformat_minor": 5
}
