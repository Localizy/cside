{
 "cells": [
  {
   "cell_type": "code",
   "execution_count": null,
   "id": "b9892c56",
   "metadata": {},
   "outputs": [],
   "source": [
    "pip install requests"
   ]
  },
  {
   "cell_type": "code",
   "execution_count": 15,
   "id": "72aedeb2",
   "metadata": {},
   "outputs": [],
   "source": [
    "import requests\n",
    "import json\n",
    "\n",
    "\n",
    "def getStringPair(key, value):\n",
    "    sample = \"<string name=\\\"*#8#key\\\">*#8#value</string>\"\n",
    "    return  sample.replace('*#8#key', key).replace(\"*#8#value\", value)\n",
    "\n",
    "def punchFile(output, fileName):\n",
    "    f = open(fileName, \"w\")\n",
    "    f.write(output)\n",
    "    f.close()\n",
    "\n",
    "def getJSONFromAPI(URL):\n",
    "    response = requests.get(URL)\n",
    "    return response.json()\n",
    "    \n",
    "    \n",
    "def getXMLFromJSON(jsonObject):\n",
    "    output = '<?xml version=\"1.0\" encoding=\"utf-8\"?>'\n",
    "    output+= '\\n<resources>'\n",
    "\n",
    "    for key in jsonObject:\n",
    "        output +=  \"\\n\" + getStringPair(str(key), str(jsonObject[key])) \n",
    "    output+= '\\n</resources>'\n",
    "    return output\n",
    "\n",
    "def writeFileFromURL(URL, fileName):\n",
    "    print(\"Downloading \" + fileName + \" ...\")\n",
    "    jsonObject = getJSONFromAPI(URL)\n",
    "    xmlFile = getXMLFromJSON(jsonObject)\n",
    "    punchFile(xmlFile, str(fileName))\n"
   ]
  },
  {
   "cell_type": "code",
   "execution_count": 16,
   "id": "632edf49",
   "metadata": {},
   "outputs": [
    {
     "name": "stdout",
     "output_type": "stream",
     "text": [
      "Downloading 1.txt ...\n",
      "Finished\n"
     ]
    }
   ],
   "source": [
    "writeFileFromURL(\"https://private-73751d-docs44.apiary-mock.com/getGandalf\", \"1.xml\")\n",
    "print(\"Finished\")"
   ]
  },
  {
   "cell_type": "code",
   "execution_count": 7,
   "id": "67d02063",
   "metadata": {},
   "outputs": [],
   "source": [
    "str_list = [\"New York\",\"Los Angeles\",\"Chicago\",\"Houston\",\"Phoenix\",\n",
    "            \"Philadelphia\"]\n",
    "\n",
    "for x in range(len(str_list)):\n",
    "    writeFileFromURL(\"https://private-73751d-docs44.apiary-mock.com/getGandalf\", str_list[x]+\".txt\")"
   ]
  },
  {
   "cell_type": "code",
   "execution_count": null,
   "id": "2184bc08",
   "metadata": {},
   "outputs": [],
   "source": []
  }
 ],
 "metadata": {
  "kernelspec": {
   "display_name": "Python 3 (ipykernel)",
   "language": "python",
   "name": "python3"
  },
  "language_info": {
   "codemirror_mode": {
    "name": "ipython",
    "version": 3
   },
   "file_extension": ".py",
   "mimetype": "text/x-python",
   "name": "python",
   "nbconvert_exporter": "python",
   "pygments_lexer": "ipython3",
   "version": "3.8.9"
  }
 },
 "nbformat": 4,
 "nbformat_minor": 5
}
